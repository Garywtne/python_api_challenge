{
 "cells": [
  {
   "cell_type": "markdown",
   "metadata": {},
   "source": [
    "# WeatherPy\n",
    "----\n"
   ]
  },
  {
   "cell_type": "markdown",
   "metadata": {},
   "source": [
    "# Anaylsis\n",
    "----\n",
    "\n",
    "* On the 13th of April 2022 in the northern hemisphere there was a stronger relasionship between proximity to the equator and \n",
    "  higher tempretures than could be seen in the southern hemisphere.\n",
    "* There was no strong relasionship between lattitude and wind speed.\n",
    "* There was no strong relationship between latitude and humidity or cloudiness."
   ]
  },
  {
   "cell_type": "code",
   "execution_count": 1,
   "metadata": {
    "scrolled": true
   },
   "outputs": [],
   "source": [
    "\n",
    "# Dependencies and Setup\n",
    "import matplotlib.pyplot as plt\n",
    "import pandas as pd\n",
    "import numpy as np\n",
    "import requests\n",
    "import time\n",
    "from scipy import stats\n",
    "from scipy.stats import linregress\n",
    "from citipy import citipy\n",
    "\n",
    "# Import API key from file\n",
    "from api_keys import weather_api_key\n",
    "\n",
    "\n",
    "# Output File (CSV)\n",
    "output_data_file = \"../output_data/cities.csv\"\n",
    "\n"
   ]
  },
  {
   "cell_type": "code",
   "execution_count": 2,
   "metadata": {},
   "outputs": [
    {
     "data": {
      "text/plain": [
       "'../output_data/cities.csv'"
      ]
     },
     "execution_count": 2,
     "metadata": {},
     "output_type": "execute_result"
    }
   ],
   "source": [
    "output_data_file"
   ]
  },
  {
   "cell_type": "markdown",
   "metadata": {},
   "source": [
    "## Generate Cities List"
   ]
  },
  {
   "cell_type": "code",
   "execution_count": 3,
   "metadata": {},
   "outputs": [
    {
     "data": {
      "text/plain": [
       "615"
      ]
     },
     "execution_count": 3,
     "metadata": {},
     "output_type": "execute_result"
    }
   ],
   "source": [
    "# Create empty lists for lattitude and longitude and for city names\n",
    "lat_lngs = []\n",
    "cities = []\n",
    "\n",
    "# define the ranges of lattitude and longitude and save into variables\n",
    "lat_range = (-90, 90)\n",
    "lng_range = (-180, 180)\n",
    "\n",
    "# using numpy generate 1500 randon number combinations within the defined ranges to ensure sufficient to achieve a minimum of 500 \n",
    "lats = np.random.uniform(lat_range[0], lat_range[1], size=1500)\n",
    "lngs = np.random.uniform(lng_range[0], lng_range[1], size=1500)\n",
    "\n",
    "# zip the to list together and save into variable lats_lngs\n",
    "lats_lngs = zip(lats, lngs)\n",
    "\n",
    "# Loop through the lats_lngs series using the citipy.nearest_city function to find the city_name of the nearest city\n",
    "for lat_lng in lats_lngs:\n",
    "    city = citipy.nearest_city(lat_lng[0], lat_lng[1]).city_name\n",
    "    \n",
    "    # If the city_name doesnt already exist then add it to the cities list\n",
    "    if city not in cities:\n",
    "        cities.append(city)\n",
    "\n",
    "# Using the len() function count the number of cities in the list to ensure that it is over 500\n",
    "len(cities)"
   ]
  },
  {
   "cell_type": "code",
   "execution_count": 10,
   "metadata": {},
   "outputs": [
    {
     "name": "stdout",
     "output_type": "stream",
     "text": [
      "['guarapari', 'cidreira', 'kapaa', 'tsihombe', 'kempele', 'hilo', 'saint-philippe', 'rikitea', 'shirgaon', 'mataura', 'logumkloster', 'veshenskaya', 'krasnoselkup', 'ketchikan', 'mar del plata', 'upernavik', 'yellowknife', 'egvekinot', 'otradnoye', 'cape town', 'east london', 'kuche', 'bluff', 'belyy yar', 'atuona', 'sonoita', 'dhuburi', 'provideniya', 'lalomanu', 'clyde river', 'belushya guba', 'moquegua', 'avarua', 'hermanus', 'hobyo', 'busselton', 'puerto ayora', 'mao', 'correntina', 'vostok', 'hamilton', 'shitanjing', 'bengkulu', 'nizhniy kuranakh', 'khatanga', 'sarkand', 'thompson', 'victoria', 'nikolskoye', 'ilulissat', 'kodiak', 'sentyabrskiy', 'chumikan', 'samana', 'tiksi', 'doka', 'new norfolk', 'souillac', 'lahij', 'tasiilaq', 'port alfred', 'ola', 'araouane', 'nanortalik', 'wulanhaote', 'ribeira grande', 'korla', 'esperance', 'fort saint john', 'taolanaro', 'matsanga', 'vaini', 'airai', 'mustasaari', 'taft', 'vorsma', 'ushuaia', 'laguna', 'pevek', 'tarana', 'awbari', 'camapua', 'taltal', 'georgetown', 'qaanaaq', 'scottsbluff', 'mahebourg', 'luwuk', 'amderma', 'waingapu', 'salta', 'luderitz', 'ati', 'beringovskiy', 'tuktoyaktuk', 'cockburn town', 'punta arenas', 'hithadhoo', 'chicama', 'chuy', 'torbay', 'faanui', 'tumannyy', 'asau', 'te anau', 'chernyakhovsk', 'nouadhibou', 'luanda', 'dingle', 'fortuna', 'saint george', 'saint-pierre', 'hobart', 'castro', 'vao', 'lolua', 'verkhnevilyuysk', 'aldan', 'barentsburg', 'conde', 'katobu', 'geraldton', 'vilhena', 'cherskiy', 'ye', 'kautokeino', 'nicoya', 'port-gentil', 'hasaki', 'sao joao da barra', 'kloulklubed', 'abu dhabi', 'attawapiskat', 'callaway', 'butaritari', 'gusau', 'tura', 'meadow lake', 'shimoda', 'saint-pacome', 'raudeberg', 'vestmannaeyjar', 'klaksvik', 'albany', 'semporna', 'jamestown', 'debre birhan', 'toora-khem', 'barrow', 'ayr', 'bredasdorp', 'kaitangata', 'santa marta', 'leningradskiy', 'northam', 'cabo san lucas', 'marcona', 'colares', 'camacha', 'kimbe', 'phan rang', 'iqaluit', 'chara', 'kavieng', 'los llanos de aridane', 'college', 'lodwar', 'nizhneyansk', 'roebourne', 'okhotsk', 'chokurdakh', 'bathsheba', 'port blair', 'sitka', 'lompoc', 'zhangye', 'pitimbu', 'orange cove', 'kedrovyy', 'manggar', 'huarmey', 'norman wells', 'port elizabeth', 'severo-kurilsk', 'moura', 'khonuu', 'saskylakh', 'bretten', 'harper', 'port-cartier', 'belousovka', 'guayaramerin', 'kobe', 'illoqqortoormiut', 'marawi', 'grand gaube', 'koungou', 'vieux-habitants', 'borna', 'owando', 'general cepeda', 'grindavik', 'lagos', 'maniitsoq', 'saint anthony', 'pampa', 'ormara', 'praia da vitoria', 'maceio', 'bergerac', 'grand river south east', 'sisimiut', 'husavik', 'adrar', 'lebu', 'new glasgow', 'kudahuvadhoo', 'alofi', 'cayhagan', 'taoudenni', 'bambous virieux', 'samarai', 'bogorodskoye', 'salalah', 'chapaevsk', 'nurota', 'carutapera', 'dudinka', 'beyneu', 'pacific grove', 'faya', 'talnakh', 'morant bay', 'sarangani', 'lima', 'besikduzu', 'smithville', 'gisborne', 'inhambane', 'hungen', 'havre-saint-pierre', 'imeni poliny osipenko', 'camacupa', 'buy', 'eureka', 'stokmarknes', 'ayan', 'narsaq', 'kirakira', 'namibe', 'shetpe', 'constitucion', 'taitung', 'sotouboua', 'vyatskiye polyany', 'arraial do cabo', 'louisbourg', 'orland park', 'temaraia', 'lasa', 'sungaipenuh', 'dikson', 'pangnirtung', 'barrhead', 'walvis bay', 'arrifes', 'sibu', 'fairbanks', 'tuatapere', 'tubuala', 'kharan', 'calabozo', 'kahului', 'umzimvubu', 'segezha', 'petropavlovsk-kamchatskiy', 'saint-francois', 'ambilobe', 'waw', 'skelleftea', 'kruisfontein', 'caravelas', 'sahrak', 'kashi', 'torbat-e jam', 'upington', 'meulaboh', 'mae hong son', 'haines junction', 'presidencia roque saenz pena', 'ilebo', 'tamiahua', 'santa cruz de la palma', 'turukhansk', 'bowen', 'penaflor', 'kysyl-syr', 'tabialan', 'wattegama', 'muros', 'barra patuca', 'poum', 'tarudant', 'dunedin', 'shibetsu', 'tambopata', 'maxixe', 'gazanjyk', 'antalaha', 'kalomo', 'sol-iletsk', 'bosaso', 'pisco', 'garbolovo', 'ojinaga', 'derzhavinsk', 'bolungarvik', 'humberto de campos', 'touros', 'marin', 'noumea', 'saldanha', 'mithimna', 'tiarei', 'samusu', 'quatre cocos', 'bubaque', 'sinop', 'havelock', 'codrington', 'zdanice', 'ust-shonosha', 'kostomuksha', 'pelym', 'krasnovishersk', 'mpanda', 'itambacuri', 'woodward', 'cayenne', 'elko', 'caucasia', 'baruun-urt', 'victor harbor', 'vardo', 'coihaique', 'cooma', 'carauari', 'trinidad', 'ancud', 'thunder bay', 'mys shmidta', 'panacan', 'sumbawa', 'lynn haven', 'carnarvon', 'aklavik', 'karpathos', 'keningau', 'numan', 'buraydah', 'bandarbeyla', 'berlevag', 'bethel', 'westpunt', 'westport', 'axim', 'lishu', 'amuntai', 'lagoa', 'phan thiet', 'iralaya', 'san benedetto del tronto', 'itoman', 'usoke', 'beisfjord', 'itacare', 'angra', 'zhigansk', 'sept-iles', 'aurora', 'abbeville', 'zhoucheng', 'ponta do sol', 'krasnaya gora', 'sao felix do xingu', 'aykhal', 'blagoyevo', 'tessalit', 'mackay', 'makokou', 'suluq', 'saleaula', 'mikhaylovka', 'ballina', 'dolores', 'shihezi', 'zvishavane', 'burica', 'saint-augustin', 'masyaf', 'bonito', 'rawson', 'hami', 'khuzhir', 'longyearbyen', 'thohoyandou', 'wanning', 'mongo', 'mattawa', 'svetlogorsk', 'rayong', 'pagudpud', 'maldonado', 'pingdu', 'vacaria', 'sesheke', 'ternate', 'tiznit', 'tateyama', 'loralai', 'fredericksburg', 'petauke', 'malatya', 'halalo', 'diffa', 'nemuro', 'paamiut', 'ust-omchug', 'ahuimanu', 'araguatins', 'mercedes', 'atambua', 'rio gallegos', 'taldan', 'ulaanbaatar', 'kenora', 'vila', 'tabiauea', 'port lincoln', 'baoshan', 'vaitupu', 'oga', 'paka', 'ponoka', 'lashio', 'batemans bay', 'tank', 'susanville', 'dargaville', 'senanga', 'blonduos', 'znamenskoye', 'oxford', 'newport', 'tigil', 'mehamn', 'heihe', 'lavrentiya', 'mamallapuram', 'yulara', 'savannah bight', 'rocha', 'marrakesh', 'ijaki', 'valdivia', 'cuamba', 'lata', 'torres', 'tuim', 'dawlatabad', 'sisophon', 'trofors', 'terra santa', 'nema', 'makakilo city', 'melfi', 'verkh-usugli', 'yumen', 'houma', 'concarneau', 'port moresby', 'tahta', 'riyadh', 'mount gambier', 'carmo do cajuru', 'karkaralinsk', 'maracacume', 'olafsvik', 'nome', 'arroyo', 'san patricio', 'adelaide', 'paracatu', 'venkatagiri', 'kurumkan', 'surt', 'sharjah', 'bonthe', 'robe', 'birin', 'beihai', 'birjand', 'hualmay', 'sambava', 'cabedelo', 'chake chake', 'hearst', 'isangel', 'hay river', 'ziniare', 'ostrovnoy', 'uniontown', 'nacala', 'rio grande', 'diapaga', 'oktyabrskiy', 'bekobod', 'chapais', 'lorengau', 'hunchun', 'mrirt', 'kapit', 'burnie', 'tsienyane', 'port hedland', 'el naranjo', 'esso', 'ust-kamchatsk', 'molepolole', 'san quintin', 'vrangel', 'kobojango', 'tamandare', 'camocim', 'port keats', 'boa vista', 'coquimbo', 'moron', 'roma', 'deputatskiy', 'la ronge', 'san cristobal', 'karratha', 'finnsnes', 'sabha', 'ixtapa', 'byron bay', 'lebyazhye', 'falam', 'ihosy', 'erenhot', 'sakakah', 'biga', 'ponta delgada', 'conceicao da barra', 'port shepstone', 'kyren', 'gwadar', 'mogadishu', 'gold coast', 'menongue', 'hambantota', 'yar-sale', 'vila velha', 'aden', 'murakami', 'omboue', 'gamboma', 'toliary', 'chyhyryn', 'sorvag', 'pasaje', 'pentecoste', 'concepcion del uruguay', 'charters towers', 'waterloo', 'maumere', 'baglan', 'poya', 'macon', 'takoradi', 'udachnyy', 'mullaitivu', 'rongcheng', 'de aar', 'camalu', 'ust-kuyga', 'goderich', 'general roca', 'manadhoo', 'zyryanka', 'puerto suarez', 'japura', 'marbella', 'richards bay', 'namatanai', 'beloha', 'tubruq', 'mecca', 'guerrero negro', 'kaa-khem', 'nefteyugansk', 'kankon', 'ippy', 'meyungs', 'benjamin constant', 'prince rupert', 'kuytun', 'grand-lahou', 'cheyur', 'sterling', 'kavaratti', 'kokopo']\n"
     ]
    }
   ],
   "source": [
    "print(cities)"
   ]
  },
  {
   "cell_type": "markdown",
   "metadata": {},
   "source": [
    "### Perform API Calls\n",
    "* Perform a weather check on each city using a series of successive API calls.\n",
    "* Include a print log of each city as it'sbeing processed (with the city number and city name).\n"
   ]
  },
  {
   "cell_type": "code",
   "execution_count": 4,
   "metadata": {},
   "outputs": [
    {
     "name": "stdout",
     "output_type": "stream",
     "text": [
      "http://api.openweathermap.org/data/2.5/weather?units=Imperial&APPID=36426fe7b8f897a2610ab86f3f9f9741\n"
     ]
    }
   ],
   "source": [
    "# Create the URL for the Weather Map API Call requesting imperial measurments and adding the api key from my api_keys file\n",
    "\n",
    "url = \"http://api.openweathermap.org/data/2.5/weather?units=Imperial&APPID=\" + weather_api_key\n",
    "\n",
    "# # print url to check\n",
    "print(url)\n",
    "\n",
    "# create an empty list for the results of the api call\n",
    "city_data = []"
   ]
  },
  {
   "cell_type": "code",
   "execution_count": 5,
   "metadata": {},
   "outputs": [
    {
     "data": {
      "text/plain": [
       "0"
      ]
     },
     "execution_count": 5,
     "metadata": {},
     "output_type": "execute_result"
    }
   ],
   "source": [
    "len(city_data)"
   ]
  },
  {
   "cell_type": "code",
   "execution_count": 6,
   "metadata": {},
   "outputs": [
    {
     "name": "stdout",
     "output_type": "stream",
     "text": [
      "Retrieving cities     \n",
      "-----------------------------\n",
      "Processing call 1 of Set 1 | pevek\n",
      "Processing call 2 of Set 1 | san cristobal\n",
      "Processing call 3 of Set 1 | macamic\n",
      "Processing call 4 of Set 1 | ilulissat\n",
      "Processing call 5 of Set 1 | mar del plata\n",
      "Processing call 6 of Set 1 | college\n",
      "Processing call 7 of Set 1 | salalah\n",
      "Processing call 8 of Set 1 | khatanga\n",
      "Processing call 9 of Set 1 | bethel\n",
      "Processing call 10 of Set 1 | yashkul\n",
      "Processing call 11 of Set 1 | kruisfontein\n",
      "Processing call 12 of Set 1 | ambalema\n",
      "Processing call 13 of Set 1 | punta arenas\n",
      "Processing call 14 of Set 1 | victoria\n",
      "Processing call 15 of Set 1 | jamestown\n",
      "Processing call 16 of Set 1 | zapolyarnyy\n",
      "Processing call 17 of Set 1 | vostok\n",
      "Processing call 18 of Set 1 | ushuaia\n",
      "Processing call 19 of Set 1 | troina\n",
      "Processing call 20 of Set 1 | atambua\n",
      "Processing call 0 of Set 2 | port arthur\n",
      "Processing call 1 of Set 2 | mataura\n",
      "Processing call 2 of Set 2 | azangaro\n",
      "Processing call 3 of Set 2 | aswan\n",
      "Processing call 4 of Set 2 | castro\n",
      "Processing call 5 of Set 2 | chuy\n",
      "Processing call 6 of Set 2 | hobart\n",
      "Processing call 7 of Set 2 | panaba\n",
      "Processing call 8 of Set 2 | kathu\n",
      "Processing call 9 of Set 2 | gotsu\n",
      "Processing call 10 of Set 2 | port alfred\n",
      "Processing call 11 of Set 2 | ahipara\n",
      "Processing call 12 of Set 2 | busselton\n",
      "Processing call 13 of Set 2 | severo-kurilsk\n",
      "Processing call 14 of Set 2 | albany\n",
      "Processing call 15 of Set 2 | longhua\n",
      "Processing call 16 of Set 2 | bredasdorp\n",
      "Processing call 17 of Set 2 | tasiilaq\n",
      "Processing call 18 of Set 2 | east london\n",
      "Processing call 19 of Set 2 | hermanus\n",
      "Processing call 0 of Set 3 | mount gambier\n",
      "Processing call 1 of Set 3 | barbar\n",
      "Unable to retrive weather data. Skip to the next city...\n",
      "Processing call 2 of Set 3 | vagur\n",
      "Processing call 3 of Set 3 | saskylakh\n",
      "Processing call 4 of Set 3 | gornopravdinsk\n",
      "Processing call 5 of Set 3 | barrow\n",
      "Processing call 6 of Set 3 | kaitangata\n",
      "Processing call 7 of Set 3 | mnogovershinnyy\n",
      "Processing call 8 of Set 3 | salekhard\n",
      "Processing call 9 of Set 3 | upernavik\n",
      "Processing call 10 of Set 3 | carlisle\n",
      "Processing call 11 of Set 3 | chokurdakh\n",
      "Processing call 12 of Set 3 | amderma\n",
      "Unable to retrive weather data. Skip to the next city...\n",
      "Processing call 13 of Set 3 | kavieng\n",
      "Processing call 14 of Set 3 | kapaa\n",
      "Processing call 15 of Set 3 | san patricio\n",
      "Processing call 16 of Set 3 | kavaratti\n",
      "Processing call 17 of Set 3 | airai\n",
      "Processing call 18 of Set 3 | ribeira grande\n",
      "Processing call 19 of Set 3 | noumea\n",
      "Processing call 0 of Set 4 | rikitea\n",
      "Processing call 1 of Set 4 | puerto madryn\n",
      "Processing call 2 of Set 4 | arraial do cabo\n",
      "Processing call 3 of Set 4 | bousso\n",
      "Processing call 4 of Set 4 | coihueco\n",
      "Processing call 5 of Set 4 | lompoc\n",
      "Processing call 6 of Set 4 | henties bay\n",
      "Processing call 7 of Set 4 | taolanaro\n",
      "Unable to retrive weather data. Skip to the next city...\n",
      "Processing call 8 of Set 4 | ndele\n",
      "Processing call 9 of Set 4 | hithadhoo\n",
      "Processing call 10 of Set 4 | viedma\n",
      "Processing call 11 of Set 4 | thinadhoo\n",
      "Processing call 12 of Set 4 | hasaki\n",
      "Processing call 13 of Set 4 | xacmaz\n",
      "Processing call 14 of Set 4 | karratha\n",
      "Processing call 15 of Set 4 | bathsheba\n",
      "Processing call 16 of Set 4 | provideniya\n",
      "Processing call 17 of Set 4 | saint-philippe\n",
      "Processing call 18 of Set 4 | dikson\n",
      "Processing call 19 of Set 4 | atuona\n",
      "Processing call 0 of Set 5 | murgab\n",
      "Processing call 1 of Set 5 | yarada\n",
      "Processing call 2 of Set 5 | ostrovnoy\n",
      "Processing call 3 of Set 5 | nguiu\n",
      "Unable to retrive weather data. Skip to the next city...\n",
      "Processing call 4 of Set 5 | makakilo city\n",
      "Processing call 5 of Set 5 | rincon\n",
      "Processing call 6 of Set 5 | lebu\n",
      "Processing call 7 of Set 5 | warrenton\n",
      "Processing call 8 of Set 5 | a\n",
      "Unable to retrive weather data. Skip to the next city...\n",
      "Processing call 9 of Set 5 | jiaocheng\n",
      "Processing call 10 of Set 5 | teya\n",
      "Processing call 11 of Set 5 | saldanha\n",
      "Processing call 12 of Set 5 | thompson\n",
      "Processing call 13 of Set 5 | berlevag\n",
      "Processing call 14 of Set 5 | udachnyy\n",
      "Processing call 15 of Set 5 | chumikan\n",
      "Processing call 16 of Set 5 | puerto ayora\n",
      "Processing call 17 of Set 5 | acapulco\n",
      "Processing call 18 of Set 5 | orlik\n",
      "Processing call 19 of Set 5 | truro\n",
      "Processing call 0 of Set 6 | manokwari\n",
      "Processing call 1 of Set 6 | codrington\n",
      "Processing call 2 of Set 6 | butaritari\n",
      "Processing call 3 of Set 6 | matara\n",
      "Processing call 4 of Set 6 | coihaique\n",
      "Processing call 5 of Set 6 | alice town\n",
      "Processing call 6 of Set 6 | hofn\n",
      "Processing call 7 of Set 6 | morlaix\n",
      "Processing call 8 of Set 6 | colinas\n",
      "Processing call 9 of Set 6 | vaini\n",
      "Processing call 10 of Set 6 | hilo\n",
      "Processing call 11 of Set 6 | tuktoyaktuk\n",
      "Processing call 12 of Set 6 | cinco esquinas\n",
      "Processing call 13 of Set 6 | barentsburg\n",
      "Unable to retrive weather data. Skip to the next city...\n",
      "Processing call 14 of Set 6 | port elizabeth\n",
      "Processing call 15 of Set 6 | naze\n",
      "Processing call 16 of Set 6 | nyagan\n",
      "Processing call 17 of Set 6 | sentyabrskiy\n",
      "Unable to retrive weather data. Skip to the next city...\n",
      "Processing call 18 of Set 6 | gladstone\n",
      "Processing call 19 of Set 6 | muros\n",
      "Processing call 0 of Set 7 | pombas\n",
      "Processing call 1 of Set 7 | catemaco\n",
      "Processing call 2 of Set 7 | namibe\n",
      "Processing call 3 of Set 7 | lorengau\n",
      "Processing call 4 of Set 7 | cidreira\n",
      "Processing call 5 of Set 7 | yellowknife\n",
      "Processing call 6 of Set 7 | cherskiy\n",
      "Processing call 7 of Set 7 | kodiak\n",
      "Processing call 8 of Set 7 | lolua\n",
      "Unable to retrive weather data. Skip to the next city...\n",
      "Processing call 9 of Set 7 | viligili\n",
      "Unable to retrive weather data. Skip to the next city...\n",
      "Processing call 10 of Set 7 | ibra\n",
      "Processing call 11 of Set 7 | barra dos coqueiros\n",
      "Processing call 12 of Set 7 | miraflores\n",
      "Processing call 13 of Set 7 | bengkulu\n",
      "Processing call 14 of Set 7 | mackay\n",
      "Processing call 15 of Set 7 | samana\n",
      "Processing call 16 of Set 7 | avarua\n",
      "Processing call 17 of Set 7 | ulaanbaatar\n",
      "Processing call 18 of Set 7 | klyuchi\n",
      "Processing call 19 of Set 7 | irsha\n",
      "Processing call 0 of Set 8 | vardo\n",
      "Processing call 1 of Set 8 | erenhot\n",
      "Processing call 2 of Set 8 | vaitape\n",
      "Processing call 3 of Set 8 | aquiraz\n",
      "Processing call 4 of Set 8 | jiazi\n",
      "Processing call 5 of Set 8 | geraldton\n",
      "Processing call 6 of Set 8 | avera\n",
      "Processing call 7 of Set 8 | la orilla\n",
      "Processing call 8 of Set 8 | samfya\n",
      "Processing call 9 of Set 8 | marau\n",
      "Processing call 10 of Set 8 | horn\n",
      "Processing call 11 of Set 8 | covington\n",
      "Processing call 12 of Set 8 | samalaeulu\n",
      "Unable to retrive weather data. Skip to the next city...\n",
      "Processing call 13 of Set 8 | maghama\n",
      "Unable to retrive weather data. Skip to the next city...\n",
      "Processing call 14 of Set 8 | mys shmidta\n",
      "Unable to retrive weather data. Skip to the next city...\n",
      "Processing call 15 of Set 8 | abu samrah\n",
      "Processing call 16 of Set 8 | karagaylinskiy\n",
      "Processing call 17 of Set 8 | inongo\n",
      "Processing call 18 of Set 8 | illoqqortoormiut\n",
      "Unable to retrive weather data. Skip to the next city...\n",
      "Processing call 19 of Set 8 | namatanai\n",
      "Processing call 0 of Set 9 | emba\n",
      "Processing call 1 of Set 9 | bundaberg\n",
      "Processing call 2 of Set 9 | ottawa\n",
      "Processing call 3 of Set 9 | tutoia\n",
      "Processing call 4 of Set 9 | ballina\n",
      "Processing call 5 of Set 9 | nikolskoye\n",
      "Processing call 6 of Set 9 | qaanaaq\n",
      "Processing call 7 of Set 9 | rocha\n",
      "Processing call 8 of Set 9 | sao desiderio\n",
      "Processing call 9 of Set 9 | victor harbor\n",
      "Processing call 10 of Set 9 | general roca\n",
      "Processing call 11 of Set 9 | sterling\n",
      "Processing call 12 of Set 9 | ijaki\n",
      "Unable to retrive weather data. Skip to the next city...\n",
      "Processing call 13 of Set 9 | khandbari\n",
      "Processing call 14 of Set 9 | sangar\n",
      "Processing call 15 of Set 9 | pulaski\n",
      "Processing call 16 of Set 9 | paamiut\n",
      "Processing call 17 of Set 9 | valparaiso\n",
      "Processing call 18 of Set 9 | alugan\n",
      "Processing call 19 of Set 9 | rio grande\n",
      "Processing call 0 of Set 10 | mandera\n",
      "Processing call 1 of Set 10 | katsuura\n",
      "Processing call 2 of Set 10 | asau\n",
      "Processing call 3 of Set 10 | papetoai\n",
      "Processing call 4 of Set 10 | quatre cocos\n",
      "Processing call 5 of Set 10 | los llanos de aridane\n",
      "Processing call 6 of Set 10 | saint-marc\n",
      "Processing call 7 of Set 10 | torbay\n",
      "Processing call 8 of Set 10 | srednekolymsk\n",
      "Processing call 9 of Set 10 | rozivka\n",
      "Processing call 10 of Set 10 | naruto\n"
     ]
    },
    {
     "name": "stdout",
     "output_type": "stream",
     "text": [
      "Processing call 11 of Set 10 | paranapanema\n",
      "Processing call 12 of Set 10 | trairi\n",
      "Processing call 13 of Set 10 | luderitz\n",
      "Processing call 14 of Set 10 | marquette\n",
      "Processing call 15 of Set 10 | roma\n",
      "Processing call 16 of Set 10 | vallenar\n",
      "Processing call 17 of Set 10 | vao\n",
      "Processing call 18 of Set 10 | raton\n",
      "Processing call 19 of Set 10 | zalantun\n",
      "Processing call 0 of Set 11 | sao joao da barra\n",
      "Processing call 1 of Set 11 | yumen\n",
      "Processing call 2 of Set 11 | kuytun\n",
      "Processing call 3 of Set 11 | mitsamiouli\n",
      "Processing call 4 of Set 11 | chingirlau\n",
      "Processing call 5 of Set 11 | mayor pablo lagerenza\n",
      "Processing call 6 of Set 11 | honiara\n",
      "Processing call 7 of Set 11 | nara\n",
      "Processing call 8 of Set 11 | caravelas\n",
      "Processing call 9 of Set 11 | fairbanks\n",
      "Processing call 10 of Set 11 | nome\n",
      "Processing call 11 of Set 11 | cayenne\n",
      "Processing call 12 of Set 11 | pangnirtung\n",
      "Processing call 13 of Set 11 | alofi\n",
      "Processing call 14 of Set 11 | chinsali\n",
      "Processing call 15 of Set 11 | belushya guba\n",
      "Unable to retrive weather data. Skip to the next city...\n",
      "Processing call 16 of Set 11 | egvekinot\n",
      "Processing call 17 of Set 11 | snasa\n",
      "Processing call 18 of Set 11 | beloha\n",
      "Processing call 19 of Set 11 | saint anthony\n",
      "Processing call 0 of Set 12 | new norfolk\n",
      "Processing call 1 of Set 12 | belovo\n",
      "Processing call 2 of Set 12 | sumbe\n",
      "Processing call 3 of Set 12 | tiznit\n",
      "Processing call 4 of Set 12 | nuevo progreso\n",
      "Processing call 5 of Set 12 | souillac\n",
      "Processing call 6 of Set 12 | kitgum\n",
      "Processing call 7 of Set 12 | georgetown\n",
      "Processing call 8 of Set 12 | port blair\n",
      "Processing call 9 of Set 12 | mayo\n",
      "Processing call 10 of Set 12 | cape town\n",
      "Processing call 11 of Set 12 | havoysund\n",
      "Processing call 12 of Set 12 | tiksi\n",
      "Processing call 13 of Set 12 | lexington park\n",
      "Processing call 14 of Set 12 | faanui\n",
      "Processing call 15 of Set 12 | ponta do sol\n",
      "Processing call 16 of Set 12 | shubarkuduk\n",
      "Processing call 17 of Set 12 | krasnoselkup\n",
      "Processing call 18 of Set 12 | balvi\n",
      "Processing call 19 of Set 12 | carnarvon\n",
      "Processing call 0 of Set 13 | aklavik\n",
      "Processing call 1 of Set 13 | esperance\n",
      "Processing call 2 of Set 13 | lapithos\n",
      "Processing call 3 of Set 13 | vanavara\n",
      "Processing call 4 of Set 13 | cap estate\n",
      "Processing call 5 of Set 13 | longyearbyen\n",
      "Processing call 6 of Set 13 | hit\n",
      "Processing call 7 of Set 13 | sao filipe\n",
      "Processing call 8 of Set 13 | itarema\n",
      "Processing call 9 of Set 13 | morros\n",
      "Processing call 10 of Set 13 | zemio\n",
      "Processing call 11 of Set 13 | pirovskoye\n",
      "Processing call 12 of Set 13 | tigzirt\n",
      "Processing call 13 of Set 13 | freeport\n",
      "Processing call 14 of Set 13 | wilmington\n",
      "Processing call 15 of Set 13 | saleaula\n",
      "Unable to retrive weather data. Skip to the next city...\n",
      "Processing call 16 of Set 13 | tanout\n",
      "Processing call 17 of Set 13 | mahebourg\n",
      "Processing call 18 of Set 13 | altay\n",
      "Processing call 19 of Set 13 | bubaque\n",
      "Processing call 0 of Set 14 | mwinilunga\n",
      "Processing call 1 of Set 14 | saint george\n",
      "Processing call 2 of Set 14 | aflu\n",
      "Unable to retrive weather data. Skip to the next city...\n",
      "Processing call 3 of Set 14 | camacha\n",
      "Processing call 4 of Set 14 | wahran\n",
      "Unable to retrive weather data. Skip to the next city...\n",
      "Processing call 5 of Set 14 | alice springs\n",
      "Processing call 6 of Set 14 | terme\n",
      "Processing call 7 of Set 14 | attawapiskat\n",
      "Unable to retrive weather data. Skip to the next city...\n",
      "Processing call 8 of Set 14 | nishihara\n",
      "Processing call 9 of Set 14 | kristiansund\n",
      "Processing call 10 of Set 14 | nioro\n",
      "Processing call 11 of Set 14 | nouadhibou\n",
      "Processing call 12 of Set 14 | chara\n",
      "Processing call 13 of Set 14 | marcona\n",
      "Unable to retrive weather data. Skip to the next city...\n",
      "Processing call 14 of Set 14 | pisco\n",
      "Processing call 15 of Set 14 | tabou\n",
      "Processing call 16 of Set 14 | kamenskoye\n",
      "Unable to retrive weather data. Skip to the next city...\n",
      "Processing call 17 of Set 14 | atherton\n",
      "Processing call 18 of Set 14 | haines junction\n",
      "Processing call 19 of Set 14 | san rafael\n",
      "Processing call 0 of Set 15 | xichang\n",
      "Processing call 1 of Set 15 | dingle\n",
      "Processing call 2 of Set 15 | talnakh\n",
      "Processing call 3 of Set 15 | chirongui\n",
      "Processing call 4 of Set 15 | beringovskiy\n",
      "Processing call 5 of Set 15 | camana\n",
      "Processing call 6 of Set 15 | port lincoln\n",
      "Processing call 7 of Set 15 | norman wells\n",
      "Processing call 8 of Set 15 | yeppoon\n",
      "Processing call 9 of Set 15 | manta\n",
      "Processing call 10 of Set 15 | auki\n",
      "Processing call 11 of Set 15 | narsaq\n",
      "Processing call 12 of Set 15 | sillanwali\n",
      "Processing call 13 of Set 15 | kahului\n",
      "Processing call 14 of Set 15 | mizdah\n",
      "Processing call 15 of Set 15 | sai buri\n",
      "Processing call 16 of Set 15 | iracoubo\n",
      "Processing call 17 of Set 15 | flin flon\n",
      "Processing call 18 of Set 15 | marseille\n",
      "Processing call 19 of Set 15 | vershino-darasunskiy\n",
      "Processing call 0 of Set 16 | maralal\n",
      "Processing call 1 of Set 16 | port augusta\n",
      "Processing call 2 of Set 16 | erzin\n",
      "Processing call 3 of Set 16 | warmbad\n",
      "Processing call 4 of Set 16 | oistins\n",
      "Processing call 5 of Set 16 | jibuti\n",
      "Processing call 6 of Set 16 | biao\n",
      "Processing call 7 of Set 16 | aksu\n",
      "Processing call 8 of Set 16 | mormugao\n",
      "Processing call 9 of Set 16 | losinyy\n",
      "Processing call 10 of Set 16 | half moon bay\n",
      "Processing call 11 of Set 16 | deputatskiy\n",
      "Processing call 12 of Set 16 | praya\n",
      "Processing call 13 of Set 16 | phangnga\n",
      "Processing call 14 of Set 16 | coffs harbour\n",
      "Processing call 15 of Set 16 | batagay\n",
      "Processing call 16 of Set 16 | acari\n",
      "Processing call 17 of Set 16 | kamenka\n",
      "Processing call 18 of Set 16 | rungata\n",
      "Unable to retrive weather data. Skip to the next city...\n",
      "Processing call 19 of Set 16 | darhan\n",
      "Processing call 0 of Set 17 | aras\n",
      "Processing call 1 of Set 17 | tignere\n",
      "Processing call 2 of Set 17 | samusu\n",
      "Unable to retrive weather data. Skip to the next city...\n",
      "Processing call 3 of Set 17 | pierre\n",
      "Processing call 4 of Set 17 | guerrero negro\n",
      "Processing call 5 of Set 17 | grants pass\n",
      "Processing call 6 of Set 17 | rawannawi\n",
      "Unable to retrive weather data. Skip to the next city...\n",
      "Processing call 7 of Set 17 | warqla\n",
      "Unable to retrive weather data. Skip to the next city...\n",
      "Processing call 8 of Set 17 | sindand\n",
      "Unable to retrive weather data. Skip to the next city...\n",
      "Processing call 9 of Set 17 | mehamn\n",
      "Processing call 10 of Set 17 | hihifo\n",
      "Unable to retrive weather data. Skip to the next city...\n",
      "Processing call 11 of Set 17 | constitucion\n",
      "Processing call 12 of Set 17 | bluff\n",
      "Processing call 13 of Set 17 | biak\n",
      "Processing call 14 of Set 17 | sitka\n",
      "Processing call 15 of Set 17 | iskateley\n",
      "Processing call 16 of Set 17 | bohmte\n",
      "Processing call 17 of Set 17 | baley\n",
      "Processing call 18 of Set 17 | ambon\n",
      "Processing call 19 of Set 17 | ranong\n",
      "Processing call 0 of Set 18 | cleveland\n",
      "Processing call 1 of Set 18 | sola\n",
      "Processing call 2 of Set 18 | ati\n",
      "Processing call 3 of Set 18 | berikulskiy\n",
      "Unable to retrive weather data. Skip to the next city...\n",
      "Processing call 4 of Set 18 | riyadh\n",
      "Processing call 5 of Set 18 | milledgeville\n",
      "Processing call 6 of Set 18 | rauma\n",
      "Processing call 7 of Set 18 | mansa\n",
      "Processing call 8 of Set 18 | alikalia\n",
      "Processing call 9 of Set 18 | vila velha\n",
      "Processing call 10 of Set 18 | lipari\n",
      "Processing call 11 of Set 18 | coquimbo\n",
      "Processing call 12 of Set 18 | sur\n",
      "Processing call 13 of Set 18 | sarh\n",
      "Processing call 14 of Set 18 | cabo san lucas\n",
      "Processing call 15 of Set 18 | bijie\n",
      "Processing call 16 of Set 18 | toba\n",
      "Processing call 17 of Set 18 | chernyshevskiy\n",
      "Processing call 18 of Set 18 | nenjiang\n",
      "Processing call 19 of Set 18 | chiredzi\n",
      "Processing call 0 of Set 19 | gamba\n",
      "Processing call 1 of Set 19 | north bend\n",
      "Processing call 2 of Set 19 | vaitupu\n",
      "Unable to retrive weather data. Skip to the next city...\n",
      "Processing call 3 of Set 19 | road town\n",
      "Processing call 4 of Set 19 | eufaula\n",
      "Processing call 5 of Set 19 | sitio novo do tocantins\n",
      "Processing call 6 of Set 19 | primorsk\n",
      "Processing call 7 of Set 19 | corigliano calabro\n",
      "Processing call 8 of Set 19 | kharan\n",
      "Processing call 9 of Set 19 | kashary\n",
      "Processing call 10 of Set 19 | sao felix do xingu\n",
      "Processing call 11 of Set 19 | iqaluit\n",
      "Processing call 12 of Set 19 | bela\n",
      "Processing call 13 of Set 19 | omagari\n",
      "Processing call 14 of Set 19 | husavik\n",
      "Processing call 15 of Set 19 | tsihombe\n",
      "Unable to retrive weather data. Skip to the next city...\n",
      "Processing call 16 of Set 19 | mamit\n",
      "Processing call 17 of Set 19 | zhigansk\n",
      "Processing call 18 of Set 19 | reinosa\n"
     ]
    },
    {
     "name": "stdout",
     "output_type": "stream",
     "text": [
      "Processing call 19 of Set 19 | bandarbeyla\n",
      "Processing call 0 of Set 20 | sinnamary\n",
      "Processing call 1 of Set 20 | maceio\n",
      "Processing call 2 of Set 20 | pemangkat\n",
      "Processing call 3 of Set 20 | la ronge\n",
      "Processing call 4 of Set 20 | baiyin\n",
      "Processing call 5 of Set 20 | san policarpo\n",
      "Processing call 6 of Set 20 | bealanana\n",
      "Processing call 7 of Set 20 | atar\n",
      "Processing call 8 of Set 20 | kyra\n",
      "Processing call 9 of Set 20 | cabadiangan\n",
      "Processing call 10 of Set 20 | dunedin\n",
      "Processing call 11 of Set 20 | bargal\n",
      "Unable to retrive weather data. Skip to the next city...\n",
      "Processing call 12 of Set 20 | alotau\n",
      "Unable to retrive weather data. Skip to the next city...\n",
      "Processing call 13 of Set 20 | cancun\n",
      "Processing call 14 of Set 20 | dryden\n",
      "Processing call 15 of Set 20 | chateau-thierry\n",
      "Processing call 16 of Set 20 | tevaitoa\n",
      "Processing call 17 of Set 20 | manadhoo\n",
      "Processing call 18 of Set 20 | gorno-chuyskiy\n",
      "Unable to retrive weather data. Skip to the next city...\n",
      "Processing call 19 of Set 20 | menongue\n",
      "Processing call 0 of Set 21 | pontian kecil\n",
      "Processing call 1 of Set 21 | maningrida\n",
      "Processing call 2 of Set 21 | ibotirama\n",
      "Processing call 3 of Set 21 | hualmay\n",
      "Processing call 4 of Set 21 | nagato\n",
      "Processing call 5 of Set 21 | hobyo\n",
      "Processing call 6 of Set 21 | idritsa\n",
      "Processing call 7 of Set 21 | narok\n",
      "Processing call 8 of Set 21 | valley city\n",
      "Processing call 9 of Set 21 | churapcha\n",
      "Processing call 10 of Set 21 | isangel\n",
      "Processing call 11 of Set 21 | balaka\n",
      "Processing call 12 of Set 21 | biograd na moru\n",
      "Processing call 13 of Set 21 | samarai\n",
      "Processing call 14 of Set 21 | grand river south east\n",
      "Unable to retrive weather data. Skip to the next city...\n",
      "Processing call 15 of Set 21 | halifax\n",
      "Processing call 16 of Set 21 | dwarka\n",
      "Processing call 17 of Set 21 | huainan\n",
      "Processing call 18 of Set 21 | carutapera\n",
      "Processing call 19 of Set 21 | port hedland\n",
      "Processing call 0 of Set 22 | mosty u jablunkova\n",
      "Processing call 1 of Set 22 | constantine\n",
      "Processing call 2 of Set 22 | bahia blanca\n",
      "Processing call 3 of Set 22 | leningradskiy\n",
      "Processing call 4 of Set 22 | guia de isora\n",
      "Processing call 5 of Set 22 | lahij\n",
      "Processing call 6 of Set 22 | kulhudhuffushi\n",
      "Processing call 7 of Set 22 | rognan\n",
      "Processing call 8 of Set 22 | chapais\n",
      "Processing call 9 of Set 22 | labuhan\n",
      "Processing call 10 of Set 22 | bouar\n",
      "Processing call 11 of Set 22 | ancud\n",
      "Processing call 12 of Set 22 | santo tirso\n",
      "Processing call 13 of Set 22 | rundu\n",
      "Processing call 14 of Set 22 | isabela\n",
      "Processing call 15 of Set 22 | shaowu\n",
      "Processing call 16 of Set 22 | fare\n",
      "Processing call 17 of Set 22 | sulam\n",
      "Processing call 18 of Set 22 | asbe teferi\n",
      "Processing call 19 of Set 22 | puyo\n",
      "Processing call 0 of Set 23 | lixourion\n",
      "Processing call 1 of Set 23 | chandur bazar\n",
      "Processing call 2 of Set 23 | dauphin\n",
      "Processing call 3 of Set 23 | hami\n",
      "Processing call 4 of Set 23 | nadym\n",
      "Processing call 5 of Set 23 | umzimvubu\n",
      "Unable to retrive weather data. Skip to the next city...\n",
      "Processing call 6 of Set 23 | okha\n",
      "Processing call 7 of Set 23 | carson city\n",
      "Processing call 8 of Set 23 | yar-sale\n",
      "Processing call 9 of Set 23 | kingisepp\n",
      "Processing call 10 of Set 23 | northam\n",
      "Processing call 11 of Set 23 | broome\n",
      "Processing call 12 of Set 23 | padang\n",
      "Processing call 13 of Set 23 | inhambane\n",
      "Processing call 14 of Set 23 | port-gentil\n",
      "Processing call 15 of Set 23 | nabire\n",
      "Processing call 16 of Set 23 | christchurch\n",
      "Processing call 17 of Set 23 | vieste\n",
      "Processing call 18 of Set 23 | muli\n",
      "Processing call 19 of Set 23 | saint-pierre\n",
      "Processing call 0 of Set 24 | ampanihy\n",
      "Processing call 1 of Set 24 | bonoua\n",
      "Processing call 2 of Set 24 | fort nelson\n",
      "Processing call 3 of Set 24 | jinchengjiang\n",
      "Unable to retrive weather data. Skip to the next city...\n",
      "Processing call 4 of Set 24 | melnikovo\n",
      "Processing call 5 of Set 24 | rawson\n",
      "Processing call 6 of Set 24 | olafsvik\n",
      "Processing call 7 of Set 24 | bilma\n",
      "Processing call 8 of Set 24 | pangkalanbuun\n",
      "Processing call 9 of Set 24 | victoria point\n",
      "Processing call 10 of Set 24 | gat\n",
      "Processing call 11 of Set 24 | luganville\n",
      "Processing call 12 of Set 24 | waipawa\n",
      "Processing call 13 of Set 24 | itacarambi\n",
      "Processing call 14 of Set 24 | vidim\n",
      "Processing call 15 of Set 24 | shellbrook\n",
      "Processing call 16 of Set 24 | howard springs\n",
      "Processing call 17 of Set 24 | ola\n",
      "Processing call 18 of Set 24 | ushtobe\n",
      "Processing call 19 of Set 24 | sandpoint\n",
      "Processing call 0 of Set 25 | dibaya\n",
      "Unable to retrive weather data. Skip to the next city...\n",
      "Processing call 1 of Set 25 | dyakonovo\n",
      "Unable to retrive weather data. Skip to the next city...\n",
      "Processing call 2 of Set 25 | bambanglipuro\n",
      "Processing call 3 of Set 25 | rolla\n",
      "Processing call 4 of Set 25 | magnolia\n",
      "Processing call 5 of Set 25 | launceston\n",
      "Processing call 6 of Set 25 | liberty\n",
      "Processing call 7 of Set 25 | majene\n",
      "Processing call 8 of Set 25 | flinders\n",
      "Processing call 9 of Set 25 | mamonovo\n",
      "Processing call 10 of Set 25 | cotonou\n",
      "Processing call 11 of Set 25 | bolungarvik\n",
      "Unable to retrive weather data. Skip to the next city...\n",
      "Processing call 12 of Set 25 | ambatolampy\n",
      "Processing call 13 of Set 25 | nitra\n",
      "Processing call 14 of Set 25 | galiwinku\n",
      "Unable to retrive weather data. Skip to the next city...\n",
      "Processing call 15 of Set 25 | ciparay\n",
      "Processing call 16 of Set 25 | walvis bay\n",
      "Processing call 17 of Set 25 | kohima\n",
      "Processing call 18 of Set 25 | camocim\n",
      "Processing call 19 of Set 25 | morant bay\n",
      "Processing call 0 of Set 26 | bend\n",
      "Processing call 1 of Set 26 | najran\n",
      "Processing call 2 of Set 26 | burns lake\n",
      "Processing call 3 of Set 26 | kokuy\n",
      "Processing call 4 of Set 26 | saintes\n",
      "Processing call 5 of Set 26 | westport\n",
      "Processing call 6 of Set 26 | san nicolas\n",
      "Processing call 7 of Set 26 | berezovyy\n",
      "Processing call 8 of Set 26 | namtsy\n",
      "Processing call 9 of Set 26 | koslan\n",
      "Processing call 10 of Set 26 | burgeo\n",
      "Processing call 11 of Set 26 | izhma\n",
      "Processing call 12 of Set 26 | peace river\n",
      "Processing call 13 of Set 26 | bambous virieux\n",
      "Processing call 14 of Set 26 | forasti\n",
      "Processing call 15 of Set 26 | yazman\n",
      "Processing call 16 of Set 26 | mkushi\n",
      "Processing call 17 of Set 26 | marieville\n",
      "Processing call 18 of Set 26 | ussel\n",
      "Processing call 19 of Set 26 | mahajanga\n",
      "Processing call 0 of Set 27 | kagoro\n",
      "Processing call 1 of Set 27 | aksarka\n",
      "Processing call 2 of Set 27 | burica\n",
      "Unable to retrive weather data. Skip to the next city...\n",
      "Processing call 3 of Set 27 | champerico\n",
      "Processing call 4 of Set 27 | sarangani\n",
      "Processing call 5 of Set 27 | lagoa\n",
      "Processing call 6 of Set 27 | north ogden\n",
      "Processing call 7 of Set 27 | guangyuan\n",
      "Processing call 8 of Set 27 | batemans bay\n",
      "Processing call 9 of Set 27 | neiafu\n",
      "Processing call 10 of Set 27 | oranjestad\n",
      "Processing call 11 of Set 27 | laguna\n",
      "Processing call 12 of Set 27 | nisia floresta\n",
      "Processing call 13 of Set 27 | swellendam\n",
      "Processing call 14 of Set 27 | anadyr\n",
      "Processing call 15 of Set 27 | sompeta\n",
      "Processing call 16 of Set 27 | clovis\n",
      "Processing call 17 of Set 27 | esfahan\n",
      "Processing call 18 of Set 27 | severnyy\n",
      "Processing call 19 of Set 27 | naro moru\n",
      "Processing call 0 of Set 28 | nueve de julio\n",
      "Processing call 1 of Set 28 | ondorhaan\n",
      "Unable to retrive weather data. Skip to the next city...\n",
      "Processing call 2 of Set 28 | gondar\n",
      "Processing call 3 of Set 28 | bur gabo\n",
      "Unable to retrive weather data. Skip to the next city...\n",
      "Processing call 4 of Set 28 | tautira\n",
      "Processing call 5 of Set 28 | barcelos\n",
      "Processing call 6 of Set 28 | pitimbu\n",
      "Processing call 7 of Set 28 | fuerte olimpo\n",
      "Processing call 8 of Set 28 | gambela\n",
      "Processing call 9 of Set 28 | dzhebariki-khaya\n",
      "Processing call 10 of Set 28 | mount isa\n",
      "Processing call 11 of Set 28 | sangueya\n",
      "Processing call 12 of Set 28 | tripoli\n",
      "Processing call 13 of Set 28 | maltahohe\n",
      "Processing call 14 of Set 28 | waqqas\n",
      "Processing call 15 of Set 28 | tarakan\n",
      "Processing call 16 of Set 28 | kargat\n",
      "Processing call 17 of Set 28 | merauke\n",
      "Processing call 18 of Set 28 | sumbawa\n",
      "Unable to retrive weather data. Skip to the next city...\n",
      "Processing call 19 of Set 28 | sovetsk\n",
      "Processing call 0 of Set 29 | karamea\n",
      "Unable to retrive weather data. Skip to the next city...\n",
      "Processing call 1 of Set 29 | wewak\n",
      "Processing call 2 of Set 29 | meulaboh\n",
      "Processing call 3 of Set 29 | sorvag\n",
      "Unable to retrive weather data. Skip to the next city...\n",
      "Processing call 4 of Set 29 | kirkenes\n",
      "Processing call 5 of Set 29 | pokhara\n",
      "Processing call 6 of Set 29 | novyy urengoy\n"
     ]
    },
    {
     "name": "stdout",
     "output_type": "stream",
     "text": [
      "Processing call 7 of Set 29 | batagay-alyta\n",
      "Processing call 8 of Set 29 | humaita\n",
      "Processing call 9 of Set 29 | kiunga\n",
      "Processing call 10 of Set 29 | anuradhapura\n",
      "Processing call 11 of Set 29 | salamiyah\n",
      "Processing call 12 of Set 29 | japura\n",
      "Processing call 13 of Set 29 | soeng sang\n",
      "Processing call 14 of Set 29 | hamilton\n",
      "Processing call 15 of Set 29 | den helder\n",
      "Processing call 16 of Set 29 | okandja\n",
      "Unable to retrive weather data. Skip to the next city...\n",
      "Processing call 17 of Set 29 | talara\n",
      "Processing call 18 of Set 29 | sabang\n",
      "Processing call 19 of Set 29 | amazar\n",
      "Processing call 0 of Set 30 | sirari\n",
      "Processing call 1 of Set 30 | voskresenskoye\n",
      "Processing call 2 of Set 30 | sept-iles\n",
      "Processing call 3 of Set 30 | te anau\n",
      "Processing call 4 of Set 30 | acarau\n",
      "Processing call 5 of Set 30 | gazanjyk\n",
      "Processing call 6 of Set 30 | kita\n",
      "Processing call 7 of Set 30 | ambodifototra\n",
      "Unable to retrive weather data. Skip to the next city...\n",
      "Processing call 8 of Set 30 | kadykchan\n",
      "Unable to retrive weather data. Skip to the next city...\n",
      "Processing call 9 of Set 30 | nuuk\n",
      "Processing call 10 of Set 30 | pedernales\n",
      "Processing call 11 of Set 30 | nizhneyansk\n",
      "Unable to retrive weather data. Skip to the next city...\n",
      "Processing call 12 of Set 30 | posse\n",
      "Processing call 13 of Set 30 | port angeles\n",
      "Processing call 14 of Set 30 | gravdal\n",
      "Processing call 15 of Set 30 | missoula\n",
      "Processing call 16 of Set 30 | opobo\n",
      "Unable to retrive weather data. Skip to the next city...\n",
      "Processing call 17 of Set 30 | klaksvik\n",
      "Processing call 18 of Set 30 | nanortalik\n",
      "Processing call 19 of Set 30 | gobabis\n",
      "Processing call 0 of Set 31 | adrar\n",
      "Processing call 1 of Set 31 | trois-pistoles\n",
      "Unable to retrive weather data. Skip to the next city...\n",
      "Processing call 2 of Set 31 | goderich\n",
      "Processing call 3 of Set 31 | opuwo\n",
      "Processing call 4 of Set 31 | olinda\n",
      "Processing call 5 of Set 31 | the valley\n",
      "Processing call 6 of Set 31 | fortuna\n",
      "Processing call 7 of Set 31 | chipinge\n",
      "Processing call 8 of Set 31 | pangody\n",
      "Processing call 9 of Set 31 | channel-port aux basques\n",
      "Processing call 10 of Set 31 | palana\n",
      "Processing call 11 of Set 31 | mattru\n",
      "Processing call 12 of Set 31 | broken hill\n",
      "Processing call 13 of Set 31 | donetsk\n",
      "Processing call 14 of Set 31 | roebourne\n"
     ]
    }
   ],
   "source": [
    "#Print an opening statement to log each city as it's being processed, with the city number and city name.  \n",
    "print(\"Retrieving cities     \")\n",
    "print(\"-----------------------------\")\n",
    "\n",
    "# Create counters to track how many api calls have been done \n",
    "call_counter = 1\n",
    "set_counter = 1\n",
    "\n",
    "# loop through the cities list\n",
    "for i, city in enumerate(cities):\n",
    "    \n",
    "# Grouping the calls in sets of 20\n",
    "     if (i % 20 == 0 and i >= 20):\n",
    "         set_counter += 1\n",
    "         call_counter = 0    \n",
    "\n",
    "# Create the endpoint URL with each city_name added \n",
    "     city_url = url + \"&q=\" + city\n",
    "    \n",
    "# Log and print the url call number and city\n",
    "     print(\"Processing call %s of Set %s | %s\" % (call_counter, set_counter, city))\n",
    "         \n",
    "    # Add 1 to the call counter\n",
    "     call_counter += 1\n",
    "        \n",
    "     # Run an API request for each of the cities, use try/except to ensure that the code continues to run when a city isnt found\n",
    "     try:\n",
    "         # retrieve the data as a Json\n",
    "         city_weather = requests.get(city_url).json()\n",
    "\n",
    "         # retrieve the lattitude, longitude, max temp, cloudiness, wind speed & humidity plus the country and date. save to variables\n",
    "         city_lat = city_weather[\"coord\"][\"lat\"]\n",
    "         city_lng = city_weather[\"coord\"][\"lon\"]\n",
    "         city_max_temp = city_weather[\"main\"][\"temp_max\"]\n",
    "         city_humidity = city_weather[\"main\"][\"humidity\"]\n",
    "         city_clouds = city_weather[\"clouds\"][\"all\"]\n",
    "         city_wind = city_weather[\"wind\"][\"speed\"]\n",
    "         city_country = city_weather[\"sys\"][\"country\"]\n",
    "         city_date = city_weather[\"dt\"]\n",
    "\n",
    "         # Append the City information into city_data list\n",
    "         city_data.append({\"City\": city, \n",
    "                           \"Lat\": city_lat, \n",
    "                           \"Lng\": city_lng, \n",
    "                           \"Max Temp\": city_max_temp,\n",
    "                           \"Humidity\": city_humidity,\n",
    "                           \"Cloudiness\": city_clouds,\n",
    "                           \"Wind Speed\": city_wind,\n",
    "                           \"Country\": city_country,\n",
    "                           \"Date\": city_date})\n",
    "\n",
    "     # print exception statement  \n",
    "     except:\n",
    "         print(\"Unable to retrive weather data. Skip to the next city...\")\n",
    "         pass\n",
    "                      \n",
    "\n",
    "                    "
   ]
  },
  {
   "cell_type": "code",
   "execution_count": 7,
   "metadata": {},
   "outputs": [
    {
     "data": {
      "text/plain": [
       "563"
      ]
     },
     "execution_count": 7,
     "metadata": {},
     "output_type": "execute_result"
    }
   ],
   "source": [
    "# Check the length of the city_data list to ensure that it is over 500\n",
    "len(city_data)"
   ]
  },
  {
   "cell_type": "markdown",
   "metadata": {},
   "source": [
    "### Convert Raw Data to DataFrame\n",
    "* Export the city data into a .csv.\n",
    "* Display the DataFrame"
   ]
  },
  {
   "cell_type": "code",
   "execution_count": 8,
   "metadata": {},
   "outputs": [
    {
     "data": {
      "text/plain": [
       "City          563\n",
       "Lat           563\n",
       "Lng           563\n",
       "Max Temp      563\n",
       "Humidity      563\n",
       "Cloudiness    563\n",
       "Wind Speed    563\n",
       "Country       563\n",
       "Date          563\n",
       "dtype: int64"
      ]
     },
     "execution_count": 8,
     "metadata": {},
     "output_type": "execute_result"
    }
   ],
   "source": [
    "# Convert the city_data array into a Pandas DataFrame\n",
    "city_data_pd = pd.DataFrame(city_data)\n",
    "\n",
    "# Show Record Count\n",
    "city_data_pd.count()"
   ]
  },
  {
   "cell_type": "code",
   "execution_count": 9,
   "metadata": {},
   "outputs": [
    {
     "data": {
      "text/html": [
       "<div>\n",
       "<style scoped>\n",
       "    .dataframe tbody tr th:only-of-type {\n",
       "        vertical-align: middle;\n",
       "    }\n",
       "\n",
       "    .dataframe tbody tr th {\n",
       "        vertical-align: top;\n",
       "    }\n",
       "\n",
       "    .dataframe thead th {\n",
       "        text-align: right;\n",
       "    }\n",
       "</style>\n",
       "<table border=\"1\" class=\"dataframe\">\n",
       "  <thead>\n",
       "    <tr style=\"text-align: right;\">\n",
       "      <th></th>\n",
       "      <th>City</th>\n",
       "      <th>Lat</th>\n",
       "      <th>Lng</th>\n",
       "      <th>Max Temp</th>\n",
       "      <th>Humidity</th>\n",
       "      <th>Cloudiness</th>\n",
       "      <th>Wind Speed</th>\n",
       "      <th>Country</th>\n",
       "      <th>Date</th>\n",
       "    </tr>\n",
       "  </thead>\n",
       "  <tbody>\n",
       "    <tr>\n",
       "      <th>0</th>\n",
       "      <td>pevek</td>\n",
       "      <td>69.7008</td>\n",
       "      <td>170.3133</td>\n",
       "      <td>4.05</td>\n",
       "      <td>87</td>\n",
       "      <td>100</td>\n",
       "      <td>1.03</td>\n",
       "      <td>RU</td>\n",
       "      <td>1649831944</td>\n",
       "    </tr>\n",
       "    <tr>\n",
       "      <th>1</th>\n",
       "      <td>san cristobal</td>\n",
       "      <td>7.7669</td>\n",
       "      <td>-72.2250</td>\n",
       "      <td>68.11</td>\n",
       "      <td>74</td>\n",
       "      <td>100</td>\n",
       "      <td>2.37</td>\n",
       "      <td>VE</td>\n",
       "      <td>1649831944</td>\n",
       "    </tr>\n",
       "    <tr>\n",
       "      <th>2</th>\n",
       "      <td>macamic</td>\n",
       "      <td>48.7502</td>\n",
       "      <td>-78.9996</td>\n",
       "      <td>32.88</td>\n",
       "      <td>88</td>\n",
       "      <td>100</td>\n",
       "      <td>1.99</td>\n",
       "      <td>CA</td>\n",
       "      <td>1649831944</td>\n",
       "    </tr>\n",
       "    <tr>\n",
       "      <th>3</th>\n",
       "      <td>ilulissat</td>\n",
       "      <td>69.2167</td>\n",
       "      <td>-51.1000</td>\n",
       "      <td>21.22</td>\n",
       "      <td>93</td>\n",
       "      <td>75</td>\n",
       "      <td>11.50</td>\n",
       "      <td>GL</td>\n",
       "      <td>1649831944</td>\n",
       "    </tr>\n",
       "    <tr>\n",
       "      <th>4</th>\n",
       "      <td>mar del plata</td>\n",
       "      <td>-38.0023</td>\n",
       "      <td>-57.5575</td>\n",
       "      <td>51.10</td>\n",
       "      <td>87</td>\n",
       "      <td>2</td>\n",
       "      <td>11.99</td>\n",
       "      <td>AR</td>\n",
       "      <td>1649831944</td>\n",
       "    </tr>\n",
       "  </tbody>\n",
       "</table>\n",
       "</div>"
      ],
      "text/plain": [
       "            City      Lat       Lng  Max Temp  Humidity  Cloudiness  \\\n",
       "0          pevek  69.7008  170.3133      4.05        87         100   \n",
       "1  san cristobal   7.7669  -72.2250     68.11        74         100   \n",
       "2        macamic  48.7502  -78.9996     32.88        88         100   \n",
       "3      ilulissat  69.2167  -51.1000     21.22        93          75   \n",
       "4  mar del plata -38.0023  -57.5575     51.10        87           2   \n",
       "\n",
       "   Wind Speed Country        Date  \n",
       "0        1.03      RU  1649831944  \n",
       "1        2.37      VE  1649831944  \n",
       "2        1.99      CA  1649831944  \n",
       "3       11.50      GL  1649831944  \n",
       "4       11.99      AR  1649831944  "
      ]
     },
     "execution_count": 9,
     "metadata": {},
     "output_type": "execute_result"
    }
   ],
   "source": [
    "# Display the City Data Frame\n",
    "city_data_pd.head()"
   ]
  },
  {
   "cell_type": "markdown",
   "metadata": {},
   "source": [
    "## Inspect the data and remove the cities where the humidity > 100%.\n",
    "----\n",
    "Skip this step if there are no cities that have humidity > 100%. "
   ]
  },
  {
   "cell_type": "code",
   "execution_count": 10,
   "metadata": {},
   "outputs": [
    {
     "data": {
      "text/html": [
       "<div>\n",
       "<style scoped>\n",
       "    .dataframe tbody tr th:only-of-type {\n",
       "        vertical-align: middle;\n",
       "    }\n",
       "\n",
       "    .dataframe tbody tr th {\n",
       "        vertical-align: top;\n",
       "    }\n",
       "\n",
       "    .dataframe thead th {\n",
       "        text-align: right;\n",
       "    }\n",
       "</style>\n",
       "<table border=\"1\" class=\"dataframe\">\n",
       "  <thead>\n",
       "    <tr style=\"text-align: right;\">\n",
       "      <th></th>\n",
       "      <th>Lat</th>\n",
       "      <th>Lng</th>\n",
       "      <th>Max Temp</th>\n",
       "      <th>Humidity</th>\n",
       "      <th>Cloudiness</th>\n",
       "      <th>Wind Speed</th>\n",
       "      <th>Date</th>\n",
       "    </tr>\n",
       "  </thead>\n",
       "  <tbody>\n",
       "    <tr>\n",
       "      <th>count</th>\n",
       "      <td>563.000000</td>\n",
       "      <td>563.000000</td>\n",
       "      <td>563.000000</td>\n",
       "      <td>563.000000</td>\n",
       "      <td>563.000000</td>\n",
       "      <td>563.000000</td>\n",
       "      <td>5.630000e+02</td>\n",
       "    </tr>\n",
       "    <tr>\n",
       "      <th>mean</th>\n",
       "      <td>19.299631</td>\n",
       "      <td>19.526894</td>\n",
       "      <td>60.663002</td>\n",
       "      <td>69.420959</td>\n",
       "      <td>56.847247</td>\n",
       "      <td>8.389947</td>\n",
       "      <td>1.649832e+09</td>\n",
       "    </tr>\n",
       "    <tr>\n",
       "      <th>std</th>\n",
       "      <td>33.519103</td>\n",
       "      <td>90.284294</td>\n",
       "      <td>22.621173</td>\n",
       "      <td>21.768322</td>\n",
       "      <td>40.116974</td>\n",
       "      <td>5.740415</td>\n",
       "      <td>5.535751e+01</td>\n",
       "    </tr>\n",
       "    <tr>\n",
       "      <th>min</th>\n",
       "      <td>-54.800000</td>\n",
       "      <td>-179.166700</td>\n",
       "      <td>-2.180000</td>\n",
       "      <td>1.000000</td>\n",
       "      <td>0.000000</td>\n",
       "      <td>0.000000</td>\n",
       "      <td>1.649832e+09</td>\n",
       "    </tr>\n",
       "    <tr>\n",
       "      <th>25%</th>\n",
       "      <td>-9.269700</td>\n",
       "      <td>-60.152550</td>\n",
       "      <td>44.895000</td>\n",
       "      <td>58.000000</td>\n",
       "      <td>15.500000</td>\n",
       "      <td>4.060000</td>\n",
       "      <td>1.649832e+09</td>\n",
       "    </tr>\n",
       "    <tr>\n",
       "      <th>50%</th>\n",
       "      <td>21.346900</td>\n",
       "      <td>24.662200</td>\n",
       "      <td>65.910000</td>\n",
       "      <td>73.000000</td>\n",
       "      <td>68.000000</td>\n",
       "      <td>6.910000</td>\n",
       "      <td>1.649832e+09</td>\n",
       "    </tr>\n",
       "    <tr>\n",
       "      <th>75%</th>\n",
       "      <td>48.000000</td>\n",
       "      <td>100.928950</td>\n",
       "      <td>78.510000</td>\n",
       "      <td>86.000000</td>\n",
       "      <td>100.000000</td>\n",
       "      <td>11.540000</td>\n",
       "      <td>1.649832e+09</td>\n",
       "    </tr>\n",
       "    <tr>\n",
       "      <th>max</th>\n",
       "      <td>78.218600</td>\n",
       "      <td>179.316700</td>\n",
       "      <td>108.750000</td>\n",
       "      <td>100.000000</td>\n",
       "      <td>100.000000</td>\n",
       "      <td>28.770000</td>\n",
       "      <td>1.649832e+09</td>\n",
       "    </tr>\n",
       "  </tbody>\n",
       "</table>\n",
       "</div>"
      ],
      "text/plain": [
       "              Lat         Lng    Max Temp    Humidity  Cloudiness  Wind Speed  \\\n",
       "count  563.000000  563.000000  563.000000  563.000000  563.000000  563.000000   \n",
       "mean    19.299631   19.526894   60.663002   69.420959   56.847247    8.389947   \n",
       "std     33.519103   90.284294   22.621173   21.768322   40.116974    5.740415   \n",
       "min    -54.800000 -179.166700   -2.180000    1.000000    0.000000    0.000000   \n",
       "25%     -9.269700  -60.152550   44.895000   58.000000   15.500000    4.060000   \n",
       "50%     21.346900   24.662200   65.910000   73.000000   68.000000    6.910000   \n",
       "75%     48.000000  100.928950   78.510000   86.000000  100.000000   11.540000   \n",
       "max     78.218600  179.316700  108.750000  100.000000  100.000000   28.770000   \n",
       "\n",
       "               Date  \n",
       "count  5.630000e+02  \n",
       "mean   1.649832e+09  \n",
       "std    5.535751e+01  \n",
       "min    1.649832e+09  \n",
       "25%    1.649832e+09  \n",
       "50%    1.649832e+09  \n",
       "75%    1.649832e+09  \n",
       "max    1.649832e+09  "
      ]
     },
     "execution_count": 10,
     "metadata": {},
     "output_type": "execute_result"
    }
   ],
   "source": [
    "# Display the statistical values \n",
    "city_data_pd.describe()\n",
    "# There are no cities in the data with humidity over 100\n"
   ]
  },
  {
   "cell_type": "code",
   "execution_count": 11,
   "metadata": {},
   "outputs": [
    {
     "data": {
      "text/html": [
       "<div>\n",
       "<style scoped>\n",
       "    .dataframe tbody tr th:only-of-type {\n",
       "        vertical-align: middle;\n",
       "    }\n",
       "\n",
       "    .dataframe tbody tr th {\n",
       "        vertical-align: top;\n",
       "    }\n",
       "\n",
       "    .dataframe thead th {\n",
       "        text-align: right;\n",
       "    }\n",
       "</style>\n",
       "<table border=\"1\" class=\"dataframe\">\n",
       "  <thead>\n",
       "    <tr style=\"text-align: right;\">\n",
       "      <th></th>\n",
       "      <th>City</th>\n",
       "      <th>Lat</th>\n",
       "      <th>Lng</th>\n",
       "      <th>Max Temp</th>\n",
       "      <th>Humidity</th>\n",
       "      <th>Cloudiness</th>\n",
       "      <th>Wind Speed</th>\n",
       "      <th>Country</th>\n",
       "      <th>Date</th>\n",
       "    </tr>\n",
       "  </thead>\n",
       "  <tbody>\n",
       "    <tr>\n",
       "      <th>0</th>\n",
       "      <td>pevek</td>\n",
       "      <td>69.7008</td>\n",
       "      <td>170.3133</td>\n",
       "      <td>4.05</td>\n",
       "      <td>87</td>\n",
       "      <td>100</td>\n",
       "      <td>1.03</td>\n",
       "      <td>RU</td>\n",
       "      <td>1649831944</td>\n",
       "    </tr>\n",
       "    <tr>\n",
       "      <th>1</th>\n",
       "      <td>san cristobal</td>\n",
       "      <td>7.7669</td>\n",
       "      <td>-72.2250</td>\n",
       "      <td>68.11</td>\n",
       "      <td>74</td>\n",
       "      <td>100</td>\n",
       "      <td>2.37</td>\n",
       "      <td>VE</td>\n",
       "      <td>1649831944</td>\n",
       "    </tr>\n",
       "    <tr>\n",
       "      <th>2</th>\n",
       "      <td>macamic</td>\n",
       "      <td>48.7502</td>\n",
       "      <td>-78.9996</td>\n",
       "      <td>32.88</td>\n",
       "      <td>88</td>\n",
       "      <td>100</td>\n",
       "      <td>1.99</td>\n",
       "      <td>CA</td>\n",
       "      <td>1649831944</td>\n",
       "    </tr>\n",
       "    <tr>\n",
       "      <th>3</th>\n",
       "      <td>ilulissat</td>\n",
       "      <td>69.2167</td>\n",
       "      <td>-51.1000</td>\n",
       "      <td>21.22</td>\n",
       "      <td>93</td>\n",
       "      <td>75</td>\n",
       "      <td>11.50</td>\n",
       "      <td>GL</td>\n",
       "      <td>1649831944</td>\n",
       "    </tr>\n",
       "    <tr>\n",
       "      <th>4</th>\n",
       "      <td>mar del plata</td>\n",
       "      <td>-38.0023</td>\n",
       "      <td>-57.5575</td>\n",
       "      <td>51.10</td>\n",
       "      <td>87</td>\n",
       "      <td>2</td>\n",
       "      <td>11.99</td>\n",
       "      <td>AR</td>\n",
       "      <td>1649831944</td>\n",
       "    </tr>\n",
       "    <tr>\n",
       "      <th>...</th>\n",
       "      <td>...</td>\n",
       "      <td>...</td>\n",
       "      <td>...</td>\n",
       "      <td>...</td>\n",
       "      <td>...</td>\n",
       "      <td>...</td>\n",
       "      <td>...</td>\n",
       "      <td>...</td>\n",
       "      <td>...</td>\n",
       "    </tr>\n",
       "    <tr>\n",
       "      <th>558</th>\n",
       "      <td>palana</td>\n",
       "      <td>59.1167</td>\n",
       "      <td>159.9667</td>\n",
       "      <td>19.13</td>\n",
       "      <td>94</td>\n",
       "      <td>100</td>\n",
       "      <td>12.03</td>\n",
       "      <td>RU</td>\n",
       "      <td>1649831997</td>\n",
       "    </tr>\n",
       "    <tr>\n",
       "      <th>559</th>\n",
       "      <td>mattru</td>\n",
       "      <td>7.6244</td>\n",
       "      <td>-11.8332</td>\n",
       "      <td>74.32</td>\n",
       "      <td>94</td>\n",
       "      <td>100</td>\n",
       "      <td>1.36</td>\n",
       "      <td>SL</td>\n",
       "      <td>1649831997</td>\n",
       "    </tr>\n",
       "    <tr>\n",
       "      <th>560</th>\n",
       "      <td>broken hill</td>\n",
       "      <td>-31.9500</td>\n",
       "      <td>141.4333</td>\n",
       "      <td>76.71</td>\n",
       "      <td>19</td>\n",
       "      <td>0</td>\n",
       "      <td>12.66</td>\n",
       "      <td>AU</td>\n",
       "      <td>1649831997</td>\n",
       "    </tr>\n",
       "    <tr>\n",
       "      <th>561</th>\n",
       "      <td>donetsk</td>\n",
       "      <td>48.0000</td>\n",
       "      <td>37.8000</td>\n",
       "      <td>38.07</td>\n",
       "      <td>92</td>\n",
       "      <td>100</td>\n",
       "      <td>12.62</td>\n",
       "      <td>UA</td>\n",
       "      <td>1649831772</td>\n",
       "    </tr>\n",
       "    <tr>\n",
       "      <th>562</th>\n",
       "      <td>roebourne</td>\n",
       "      <td>-20.7833</td>\n",
       "      <td>117.1333</td>\n",
       "      <td>92.28</td>\n",
       "      <td>28</td>\n",
       "      <td>0</td>\n",
       "      <td>12.33</td>\n",
       "      <td>AU</td>\n",
       "      <td>1649831997</td>\n",
       "    </tr>\n",
       "  </tbody>\n",
       "</table>\n",
       "<p>563 rows × 9 columns</p>\n",
       "</div>"
      ],
      "text/plain": [
       "              City      Lat       Lng  Max Temp  Humidity  Cloudiness  \\\n",
       "0            pevek  69.7008  170.3133      4.05        87         100   \n",
       "1    san cristobal   7.7669  -72.2250     68.11        74         100   \n",
       "2          macamic  48.7502  -78.9996     32.88        88         100   \n",
       "3        ilulissat  69.2167  -51.1000     21.22        93          75   \n",
       "4    mar del plata -38.0023  -57.5575     51.10        87           2   \n",
       "..             ...      ...       ...       ...       ...         ...   \n",
       "558         palana  59.1167  159.9667     19.13        94         100   \n",
       "559         mattru   7.6244  -11.8332     74.32        94         100   \n",
       "560    broken hill -31.9500  141.4333     76.71        19           0   \n",
       "561        donetsk  48.0000   37.8000     38.07        92         100   \n",
       "562      roebourne -20.7833  117.1333     92.28        28           0   \n",
       "\n",
       "     Wind Speed Country        Date  \n",
       "0          1.03      RU  1649831944  \n",
       "1          2.37      VE  1649831944  \n",
       "2          1.99      CA  1649831944  \n",
       "3         11.50      GL  1649831944  \n",
       "4         11.99      AR  1649831944  \n",
       "..          ...     ...         ...  \n",
       "558       12.03      RU  1649831997  \n",
       "559        1.36      SL  1649831997  \n",
       "560       12.66      AU  1649831997  \n",
       "561       12.62      UA  1649831772  \n",
       "562       12.33      AU  1649831997  \n",
       "\n",
       "[563 rows x 9 columns]"
      ]
     },
     "execution_count": 11,
     "metadata": {},
     "output_type": "execute_result"
    }
   ],
   "source": [
    "# Extract relevant fields from the data frame\n",
    "lats = city_data_pd[\"Lat\"]\n",
    "max_temps = city_data_pd[\"Max Temp\"]\n",
    "humidity = city_data_pd[\"Humidity\"]\n",
    "cloudiness = city_data_pd[\"Cloudiness\"]\n",
    "wind_speed = city_data_pd[\"Wind Speed\"]\n",
    "\n",
    "# Export the City_Data into a csv\n",
    "city_data_pd.to_csv(output_data_file, index_label=\"City_ID\")\n",
    "city_data_pd"
   ]
  },
  {
   "cell_type": "markdown",
   "metadata": {},
   "source": [
    "## Plotting the Data\n",
    "* Use proper labeling of the plots using plot titles (including date of analysis) and axes labels.\n",
    "* Save the plotted figures as .pngs."
   ]
  },
  {
   "cell_type": "markdown",
   "metadata": {},
   "source": [
    "## Latitude vs. Temperature Plot"
   ]
  },
  {
   "cell_type": "code",
   "execution_count": 12,
   "metadata": {},
   "outputs": [
    {
     "data": {
      "image/png": "[encoded data removed]",
      "text/plain": [
       "<Figure size 432x288 with 1 Axes>"
      ]
     },
     "metadata": {
      "needs_background": "light"
     },
     "output_type": "display_data"
    }
   ],
   "source": [
    "# Build scatter plot for latitude vs. temperature\n",
    "plt.scatter(lats, \n",
    "            max_temps,\n",
    "            edgecolor=\"black\", linewidths=1, marker=\"o\", \n",
    "            alpha=0.8, label=\"Cities\")\n",
    "\n",
    "# Incorporate the other graph properties\n",
    "plt.title(\"City Latitude vs. Max Temperature (%s)\" % time.strftime(\"%x\"))\n",
    "plt.ylabel(\"Max Temperature (F)\")\n",
    "plt.xlabel(\"Latitude\")\n",
    "plt.grid(True)\n",
    "\n",
    "# Save the figure\n",
    "plt.savefig(\"../output_data/Latitude vs. Temperature Plot.png\")\n",
    "\n",
    "# Show plot\n",
    "plt.show()"
   ]
  },
  {
   "cell_type": "markdown",
   "metadata": {},
   "source": [
    "### The latitude vs Max tempreture plot shows a stronger correlation between higher tempreture and proximity to the equator in the northern hemisphere than in the southern."
   ]
  },
  {
   "cell_type": "markdown",
   "metadata": {},
   "source": [
    "## Latitude vs. Humidity Plot"
   ]
  },
  {
   "cell_type": "code",
   "execution_count": 13,
   "metadata": {},
   "outputs": [
    {
     "data": {
      "image/png": "[encoded data removed]",
      "text/plain": [
       "<Figure size 432x288 with 1 Axes>"
      ]
     },
     "metadata": {
      "needs_background": "light"
     },
     "output_type": "display_data"
    }
   ],
   "source": [
    "# Build the scatter plots for latitude vs. humidity\n",
    "plt.scatter(lats, \n",
    "            humidity,\n",
    "            edgecolor=\"black\", linewidths=1, marker=\"o\", \n",
    "            alpha=0.8, label=\"Cities\")\n",
    "\n",
    "# Incorporate the other graph properties\n",
    "plt.title(\"City Latitude vs. Humidity (%s)\" % time.strftime(\"%x\"))\n",
    "plt.ylabel(\"Humidity (%)\")\n",
    "plt.xlabel(\"Latitude\")\n",
    "plt.grid(True)\n",
    "\n",
    "# Save the figure\n",
    "plt.savefig(\"../output_data/Latitude vs. Humidity Plot.png\")\n",
    "\n",
    "# Show plot\n",
    "plt.show()"
   ]
  },
  {
   "cell_type": "markdown",
   "metadata": {},
   "source": [
    "### The Latitude vs Humidity Plot shows no clear correlation between proximity to the equator and higher levels of humidity but there is noticably more cities with low humidity in the northern hemipshere but this could be as a result of the city selection."
   ]
  },
  {
   "cell_type": "markdown",
   "metadata": {},
   "source": [
    "## Latitude vs. Cloudiness Plot"
   ]
  },
  {
   "cell_type": "code",
   "execution_count": 14,
   "metadata": {},
   "outputs": [
    {
     "data": {
      "image/png": "[encoded data removed]",
      "text/plain": [
       "<Figure size 432x288 with 1 Axes>"
      ]
     },
     "metadata": {
      "needs_background": "light"
     },
     "output_type": "display_data"
    }
   ],
   "source": [
    "# Build the scatter plots for latitude vs. cloudiness\n",
    "plt.scatter(lats, \n",
    "            cloudiness,\n",
    "            edgecolor=\"black\", linewidths=1, marker=\"o\", \n",
    "            alpha=0.8, label=\"Cities\")\n",
    "\n",
    "# Incorporate the other graph properties\n",
    "plt.title(\"City Latitude vs. Cloudiness (%s)\" % time.strftime(\"%x\"))\n",
    "plt.ylabel(\"Cloudiness (%)\")\n",
    "plt.xlabel(\"Latitude\")\n",
    "plt.grid(True)\n",
    "\n",
    "# Save the figure\n",
    "plt.savefig(\"../output_data/Latitude vs. Cloudiness Plot.png\")\n",
    "\n",
    "# Show plot\n",
    "plt.show()"
   ]
  },
  {
   "cell_type": "markdown",
   "metadata": {},
   "source": [
    "### The Latitude vs Cloudiness Plot shows no correlation between proximity to the equator and cloudiness, similar to the previous plot there is a stronger cluster of clear sky cities in the northern hemisphere but this could be as a result of city selection."
   ]
  },
  {
   "cell_type": "markdown",
   "metadata": {},
   "source": [
    "## Latitude vs. Wind Speed Plot"
   ]
  },
  {
   "cell_type": "code",
   "execution_count": 15,
   "metadata": {},
   "outputs": [
    {
     "data": {
      "image/png": "[encoded data removed]",
      "text/plain": [
       "<Figure size 432x288 with 1 Axes>"
      ]
     },
     "metadata": {
      "needs_background": "light"
     },
     "output_type": "display_data"
    }
   ],
   "source": [
    "# Build the scatter plots for latitude vs. wind speed\n",
    "plt.scatter(lats, \n",
    "            wind_speed,\n",
    "            edgecolor=\"black\", linewidths=1, marker=\"o\", \n",
    "            alpha=0.8, label=\"Cities\")\n",
    "\n",
    "# Incorporate the other graph properties\n",
    "plt.title(\"City Latitude vs. Wind Speed (%s)\" % time.strftime(\"%x\"))\n",
    "plt.ylabel(\"Wind Speed (mph)\")\n",
    "plt.xlabel(\"Latitude\")\n",
    "plt.grid(True)\n",
    "\n",
    "# Save the figure\n",
    "plt.savefig(\"../output_data/Latitude vs. Wind Speed Plot.png\")\n",
    "\n",
    "# Show plot\n",
    "plt.show()\n"
   ]
  },
  {
   "cell_type": "markdown",
   "metadata": {},
   "source": [
    "### The Latitude vs. Wind speed plot shows no correlation between proximity to the equator and wind speed."
   ]
  },
  {
   "cell_type": "markdown",
   "metadata": {},
   "source": [
    "## Linear Regression"
   ]
  },
  {
   "cell_type": "code",
   "execution_count": 16,
   "metadata": {},
   "outputs": [],
   "source": [
    "# Create a function to create Linear Regression plots\n",
    "def plot_linear_regression(x_values, y_values, title, text_coordinates):\n",
    "    \n",
    "    # Run the regresson\n",
    "    (slope, intercept, rvalue, pvalue, stderr) = linregress(x_values, y_values)\n",
    "    regress_values = x_values * slope + intercept\n",
    "    line_eq = \"y = \" + str(round(slope,2)) + \"x + \" + str(round(intercept,2))\n",
    "\n",
    "    # Plot\n",
    "    plt.scatter(x_values,y_values)\n",
    "    plt.plot(x_values,regress_values,\"r-\")\n",
    "    plt.annotate(line_eq,text_coordinates,fontsize=15,color=\"red\")\n",
    "    plt.xlabel('Latitude')\n",
    "    plt.ylabel(title)\n",
    "    print(f\"The r-value is: {rvalue**2}\")\n",
    "    plt.show()"
   ]
  },
  {
   "cell_type": "markdown",
   "metadata": {},
   "source": [
    "####  Northern Hemisphere - Max Temp vs. Latitude Linear Regression"
   ]
  },
  {
   "cell_type": "code",
   "execution_count": 18,
   "metadata": {},
   "outputs": [],
   "source": [
    "# Create Northern and Southern Hemisphere DataFrames\n",
    "northern_hemi_df = city_data_pd.loc[(city_data_pd[\"Lat\"] >= 0)]\n",
    "southern_hemi_df = city_data_pd.loc[(city_data_pd[\"Lat\"] < 0)]"
   ]
  },
  {
   "cell_type": "code",
   "execution_count": 19,
   "metadata": {},
   "outputs": [
    {
     "name": "stdout",
     "output_type": "stream",
     "text": [
      "The r-value is: 0.7661089603529483\n"
     ]
    },
    {
     "data": {
      "image/png": "[encoded data removed]",
      "text/plain": [
       "<Figure size 432x288 with 1 Axes>"
      ]
     },
     "metadata": {
      "needs_background": "light"
     },
     "output_type": "display_data"
    },
    {
     "data": {
      "text/plain": [
       "<function matplotlib.pyplot.show(close=None, block=None)>"
      ]
     },
     "execution_count": 19,
     "metadata": {},
     "output_type": "execute_result"
    }
   ],
   "source": [
    "# Linear regression on Northern Hemisphere\n",
    "x_values = northern_hemi_df[\"Lat\"]\n",
    "y_values = northern_hemi_df[\"Max Temp\"]\n",
    "plot_linear_regression(x_values, y_values, 'Max Temp',(6,0))\n",
    "plt.show"
   ]
  },
  {
   "cell_type": "markdown",
   "metadata": {},
   "source": [
    "####  There is a strong corrolation between latitude and Max Tempreture so on the 13th of April in the Northern hemisphere it would have been possible to estimate the maximum tempreture (y) of a city based on its latitude (x) with a good level of certainty using the formula on the plot."
   ]
  },
  {
   "cell_type": "markdown",
   "metadata": {},
   "source": [
    "####  Southern Hemisphere - Max Temp vs. Latitude Linear Regression"
   ]
  },
  {
   "cell_type": "code",
   "execution_count": 20,
   "metadata": {},
   "outputs": [
    {
     "name": "stdout",
     "output_type": "stream",
     "text": [
      "The r-value is: 0.4006129253397977\n"
     ]
    },
    {
     "data": {
      "image/png": "[encoded data removed]",
      "text/plain": [
       "<Figure size 432x288 with 1 Axes>"
      ]
     },
     "metadata": {
      "needs_background": "light"
     },
     "output_type": "display_data"
    },
    {
     "data": {
      "text/plain": [
       "<function matplotlib.pyplot.show(close=None, block=None)>"
      ]
     },
     "execution_count": 20,
     "metadata": {},
     "output_type": "execute_result"
    }
   ],
   "source": [
    "# Linear regression on Southern Hemisphere\n",
    "x_values = southern_hemi_df[\"Lat\"]\n",
    "y_values = southern_hemi_df[\"Max Temp\"]\n",
    "plot_linear_regression(x_values, y_values, 'Max Temp', (-55, 85))\n",
    "plt.show"
   ]
  },
  {
   "cell_type": "markdown",
   "metadata": {},
   "source": [
    "####  There is a weaker correlation between latitude and max tempreture so on the 13th of April in the Sorthern hemisphere it would have been possible to estimate the maximum tempreture (y) of a city based on its latitude (x) with a reasonable level of certainty using the formula on the plot."
   ]
  },
  {
   "cell_type": "markdown",
   "metadata": {},
   "source": [
    "####  Northern Hemisphere - Humidity (%) vs. Latitude Linear Regression"
   ]
  },
  {
   "cell_type": "code",
   "execution_count": 21,
   "metadata": {},
   "outputs": [
    {
     "name": "stdout",
     "output_type": "stream",
     "text": [
      "The r-value is: 0.06631078843367705\n"
     ]
    },
    {
     "data": {
      "image/png": "[encoded data removed]",
      "text/plain": [
       "<Figure size 432x288 with 1 Axes>"
      ]
     },
     "metadata": {
      "needs_background": "light"
     },
     "output_type": "display_data"
    },
    {
     "data": {
      "text/plain": [
       "<function matplotlib.pyplot.show(close=None, block=None)>"
      ]
     },
     "execution_count": 21,
     "metadata": {},
     "output_type": "execute_result"
    }
   ],
   "source": [
    "# Northern Hemisphere\n",
    "x_values = northern_hemi_df[\"Lat\"]\n",
    "y_values = northern_hemi_df[\"Humidity\"]\n",
    "plot_linear_regression(x_values, y_values, 'Humidity',(45,5))\n",
    "plt.show"
   ]
  },
  {
   "cell_type": "markdown",
   "metadata": {},
   "source": [
    "####  Southern Hemisphere - Humidity (%) vs. Latitude Linear Regression"
   ]
  },
  {
   "cell_type": "code",
   "execution_count": 22,
   "metadata": {},
   "outputs": [
    {
     "name": "stdout",
     "output_type": "stream",
     "text": [
      "The r-value is: 0.04815399594128892\n"
     ]
    },
    {
     "data": {
      "image/png": "[encoded data removed]",
      "text/plain": [
       "<Figure size 432x288 with 1 Axes>"
      ]
     },
     "metadata": {
      "needs_background": "light"
     },
     "output_type": "display_data"
    },
    {
     "data": {
      "text/plain": [
       "<function matplotlib.pyplot.show(close=None, block=None)>"
      ]
     },
     "execution_count": 22,
     "metadata": {},
     "output_type": "execute_result"
    }
   ],
   "source": [
    "# Southern Hemisphere\n",
    "x_values = southern_hemi_df[\"Lat\"]\n",
    "y_values = southern_hemi_df[\"Humidity\"]\n",
    "plot_linear_regression(x_values, y_values, 'Humidity', (-55, 20))\n",
    "plt.show"
   ]
  },
  {
   "cell_type": "markdown",
   "metadata": {},
   "source": [
    "####  There is no correlation between latitude and humidity so on the 13th of April it would not have been possible to predict the humitity of a city in either hemisphere with an acceptable level of certainty."
   ]
  },
  {
   "cell_type": "markdown",
   "metadata": {},
   "source": [
    "####  Northern Hemisphere - Cloudiness (%) vs. Latitude Linear Regression"
   ]
  },
  {
   "cell_type": "code",
   "execution_count": 23,
   "metadata": {},
   "outputs": [
    {
     "name": "stdout",
     "output_type": "stream",
     "text": [
      "The r-value is: 0.054993056116547666\n"
     ]
    },
    {
     "data": {
      "image/png": "[encoded data removed]",
      "text/plain": [
       "<Figure size 432x288 with 1 Axes>"
      ]
     },
     "metadata": {
      "needs_background": "light"
     },
     "output_type": "display_data"
    },
    {
     "data": {
      "text/plain": [
       "<function matplotlib.pyplot.show(close=None, block=None)>"
      ]
     },
     "execution_count": 23,
     "metadata": {},
     "output_type": "execute_result"
    }
   ],
   "source": [
    "# Northern Hemisphere\n",
    "x_values = northern_hemi_df[\"Lat\"]\n",
    "y_values = northern_hemi_df[\"Cloudiness\"]\n",
    "plot_linear_regression(x_values, y_values, 'Cloudiness', (45,50))\n",
    "plt.show"
   ]
  },
  {
   "cell_type": "markdown",
   "metadata": {},
   "source": [
    "####  Southern Hemisphere - Cloudiness (%) vs. Latitude Linear Regression"
   ]
  },
  {
   "cell_type": "code",
   "execution_count": 24,
   "metadata": {},
   "outputs": [
    {
     "name": "stdout",
     "output_type": "stream",
     "text": [
      "The r-value is: 0.07493640004127336\n"
     ]
    },
    {
     "data": {
      "image/png": "[encoded data removed]",
      "text/plain": [
       "<Figure size 432x288 with 1 Axes>"
      ]
     },
     "metadata": {
      "needs_background": "light"
     },
     "output_type": "display_data"
    },
    {
     "data": {
      "text/plain": [
       "<function matplotlib.pyplot.show(close=None, block=None)>"
      ]
     },
     "execution_count": 24,
     "metadata": {},
     "output_type": "execute_result"
    }
   ],
   "source": [
    "# Southern Hemisphere\n",
    "x_values = southern_hemi_df[\"Lat\"]\n",
    "y_values = southern_hemi_df[\"Cloudiness\"]\n",
    "plot_linear_regression(x_values, y_values, 'Cloudiness', (-55,10))\n",
    "plt.show"
   ]
  },
  {
   "cell_type": "markdown",
   "metadata": {},
   "source": [
    "#### There is no correlation between lattitude and cloudiness so on the 13th of April it would not have been possible to predict the cloudiness of a city in either hemisphere with an acceptable level of certainty."
   ]
  },
  {
   "cell_type": "markdown",
   "metadata": {},
   "source": [
    "####  Northern Hemisphere - Wind Speed (mph) vs. Latitude Linear Regression"
   ]
  },
  {
   "cell_type": "code",
   "execution_count": 26,
   "metadata": {},
   "outputs": [
    {
     "name": "stdout",
     "output_type": "stream",
     "text": [
      "The r-value is: 0.00014839737443779618\n"
     ]
    },
    {
     "data": {
      "image/png": "[encoded data removed]",
      "text/plain": [
       "<Figure size 432x288 with 1 Axes>"
      ]
     },
     "metadata": {
      "needs_background": "light"
     },
     "output_type": "display_data"
    },
    {
     "data": {
      "text/plain": [
       "<function matplotlib.pyplot.show(close=None, block=None)>"
      ]
     },
     "execution_count": 26,
     "metadata": {},
     "output_type": "execute_result"
    }
   ],
   "source": [
    "# Northern Hemisphere\n",
    "x_values = northern_hemi_df[\"Lat\"]\n",
    "y_values = northern_hemi_df[\"Wind Speed\"]\n",
    "plot_linear_regression(x_values, y_values, 'Wind Speed', (5,27))\n",
    "plt.show"
   ]
  },
  {
   "cell_type": "markdown",
   "metadata": {},
   "source": [
    "####  Southern Hemisphere - Wind Speed (mph) vs. Latitude Linear Regression"
   ]
  },
  {
   "cell_type": "code",
   "execution_count": 28,
   "metadata": {},
   "outputs": [
    {
     "name": "stdout",
     "output_type": "stream",
     "text": [
      "The r-value is: 0.06272260205091544\n"
     ]
    },
    {
     "data": {
      "image/png": "[encoded data removed]",
      "text/plain": [
       "<Figure size 432x288 with 1 Axes>"
      ]
     },
     "metadata": {
      "needs_background": "light"
     },
     "output_type": "display_data"
    },
    {
     "data": {
      "text/plain": [
       "<function matplotlib.pyplot.show(close=None, block=None)>"
      ]
     },
     "execution_count": 28,
     "metadata": {},
     "output_type": "execute_result"
    }
   ],
   "source": [
    "# Southern Hemisphere\n",
    "x_values = southern_hemi_df[\"Lat\"]\n",
    "y_values = southern_hemi_df[\"Wind Speed\"]\n",
    "plot_linear_regression(x_values, y_values, 'Wind Speed', (-57, 25))\n",
    "plt.show"
   ]
  },
  {
   "cell_type": "markdown",
   "metadata": {},
   "source": [
    "#### There is no correlation between latitude and wid speed so on the 13th of April it would not have been possible to predict the wind speed of a city in either hemisphere with an acceptable level of certainty."
   ]
  },
  {
   "cell_type": "code",
   "execution_count": null,
   "metadata": {},
   "outputs": [],
   "source": []
  }
 ],
 "metadata": {
  "anaconda-cloud": {},
  "kernel_info": {
   "name": "python3"
  },
  "kernelspec": {
   "display_name": "PythonData",
   "language": "python",
   "name": "pythondata"
  },
  "language_info": {
   "codemirror_mode": {
    "name": "ipython",
    "version": 3
   },
   "file_extension": ".py",
   "mimetype": "text/x-python",
   "name": "python",
   "nbconvert_exporter": "python",
   "pygments_lexer": "ipython3",
   "version": "3.9.7"
  },
  "latex_envs": {
   "LaTeX_envs_menu_present": true,
   "autoclose": false,
   "autocomplete": true,
   "bibliofile": "biblio.bib",
   "cite_by": "apalike",
   "current_citInitial": 1,
   "eqLabelWithNumbers": true,
   "eqNumInitial": 1,
   "hotkeys": {
    "equation": "Ctrl-E",
    "itemize": "Ctrl-I"
   },
   "labels_anchors": false,
   "latex_user_defs": false,
   "report_style_numbering": false,
   "user_envs_cfg": false
  },
  "nteract": {
   "version": "0.12.3"
  }
 },
 "nbformat": 4,
 "nbformat_minor": 2
}
